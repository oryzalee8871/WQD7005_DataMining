{
 "cells": [
  {
   "cell_type": "code",
   "execution_count": 2,
   "metadata": {},
   "outputs": [],
   "source": [
    "import pandas as pd\n",
    "import numpy as np"
   ]
  },
  {
   "cell_type": "markdown",
   "metadata": {},
   "source": [
    "### Using Selenium to interact with webpage and crawl content\n",
    "- Make sure you download appropriate webdriver.exe. Please see [Link](https://www.selenium.dev/downloads/)\n",
    "- Below code is using chrome webdriver downloaded from [Link](https://sites.google.com/a/chromium.org/chromedriver/)"
   ]
  },
  {
   "cell_type": "code",
   "execution_count": 3,
   "metadata": {},
   "outputs": [],
   "source": [
    "from selenium import webdriver\n",
    "from selenium.webdriver.common.by import By\n",
    "from selenium.webdriver.support.ui import WebDriverWait\n",
    "from selenium.webdriver.support import expected_conditions as EC\n",
    "\n",
    "url_dict = dict(\n",
    "    MCX_CPO = 'https://www.investing.com/commodities/crude-palm-oil-historical-data',\n",
    "    Bursa_CPO = 'https://www.investing.com/commodities/palm-oil-historical-data',\n",
    "    Bursa_CPO_USD = 'https://www.investing.com/commodities/palm-oil-usd-historical-data',\n",
    "    Sime_Darby_Plantation_SIPL = 'https://www.investing.com/equities/sime-darby-plantation-historical-data',\n",
    "    IOI_Corporation_IOIB = 'https://www.investing.com/equities/ioi-corporation-bhd-historical-data',\n",
    "    Kuala_Lumpur_Kepong_KLKK = 'https://www.investing.com/equities/kuala-lumpur-kepong-bhd-historical-data',\n",
    "    Golden_Agri_Resources_GAGR = 'https://www.investing.com/equities/golden-agri-resources-ltd-historical-data',\n",
    "    Wilmar_International_WLMIY = 'https://www.investing.com/equities/wilmar-international-ltd-historical-data'\n",
    ")"
   ]
  },
  {
   "cell_type": "code",
   "execution_count": 31,
   "metadata": {},
   "outputs": [
    {
     "data": {
      "text/html": [
       "<div>\n",
       "<style scoped>\n",
       "    .dataframe tbody tr th:only-of-type {\n",
       "        vertical-align: middle;\n",
       "    }\n",
       "\n",
       "    .dataframe tbody tr th {\n",
       "        vertical-align: top;\n",
       "    }\n",
       "\n",
       "    .dataframe thead th {\n",
       "        text-align: right;\n",
       "    }\n",
       "</style>\n",
       "<table border=\"1\" class=\"dataframe\">\n",
       "  <thead>\n",
       "    <tr style=\"text-align: right;\">\n",
       "      <th></th>\n",
       "      <th>Date</th>\n",
       "      <th>Price</th>\n",
       "      <th>Open</th>\n",
       "      <th>High</th>\n",
       "      <th>Low</th>\n",
       "      <th>Vol.</th>\n",
       "      <th>Change %</th>\n",
       "    </tr>\n",
       "  </thead>\n",
       "  <tbody>\n",
       "    <tr>\n",
       "      <td>0</td>\n",
       "      <td>2020-03-06</td>\n",
       "      <td>28.43</td>\n",
       "      <td>28.30</td>\n",
       "      <td>28.60</td>\n",
       "      <td>28.30</td>\n",
       "      <td>1.97K</td>\n",
       "      <td>0.21%</td>\n",
       "    </tr>\n",
       "    <tr>\n",
       "      <td>1</td>\n",
       "      <td>2020-03-05</td>\n",
       "      <td>28.37</td>\n",
       "      <td>28.31</td>\n",
       "      <td>28.37</td>\n",
       "      <td>28.30</td>\n",
       "      <td>15.26K</td>\n",
       "      <td>-0.84%</td>\n",
       "    </tr>\n",
       "    <tr>\n",
       "      <td>2</td>\n",
       "      <td>2020-03-03</td>\n",
       "      <td>28.61</td>\n",
       "      <td>29.20</td>\n",
       "      <td>29.20</td>\n",
       "      <td>28.61</td>\n",
       "      <td>0.65K</td>\n",
       "      <td>-0.07%</td>\n",
       "    </tr>\n",
       "    <tr>\n",
       "      <td>3</td>\n",
       "      <td>2020-03-02</td>\n",
       "      <td>28.63</td>\n",
       "      <td>28.31</td>\n",
       "      <td>28.63</td>\n",
       "      <td>28.31</td>\n",
       "      <td>0.99K</td>\n",
       "      <td>1.20%</td>\n",
       "    </tr>\n",
       "    <tr>\n",
       "      <td>4</td>\n",
       "      <td>2020-02-28</td>\n",
       "      <td>28.29</td>\n",
       "      <td>28.50</td>\n",
       "      <td>28.50</td>\n",
       "      <td>28.29</td>\n",
       "      <td>0.67K</td>\n",
       "      <td>-3.12%</td>\n",
       "    </tr>\n",
       "  </tbody>\n",
       "</table>\n",
       "</div>"
      ],
      "text/plain": [
       "        Date  Price   Open   High    Low    Vol. Change %\n",
       "0 2020-03-06  28.43  28.30  28.60  28.30   1.97K    0.21%\n",
       "1 2020-03-05  28.37  28.31  28.37  28.30  15.26K   -0.84%\n",
       "2 2020-03-03  28.61  29.20  29.20  28.61   0.65K   -0.07%\n",
       "3 2020-03-02  28.63  28.31  28.63  28.31   0.99K    1.20%\n",
       "4 2020-02-28  28.29  28.50  28.50  28.29   0.67K   -3.12%"
      ]
     },
     "execution_count": 31,
     "metadata": {},
     "output_type": "execute_result"
    }
   ],
   "source": [
    "# Here I declare Chrome as my webdriver and url I want to scrap\n",
    "driver = webdriver.Chrome()\n",
    "\n",
    "url_key = 'Wilmar_International_WLMIY'\n",
    "driver.get(url_dict[url_key])\n",
    "\n",
    "# Define start and end date\n",
    "start_date = '01/01/2010'\n",
    "end_date = '03/07/2020'\n",
    "\n",
    "# This will wait till page is loaded for the specified element id\n",
    "WebDriverWait(driver, 20).until(\n",
    "        EC.presence_of_element_located((By.ID, \"widgetFieldDateRange\"))\n",
    "    )\n",
    "\n",
    "driver.find_element_by_id('widgetFieldDateRange').click()\n",
    "WebDriverWait(driver, 20).until(\n",
    "        EC.presence_of_element_located((By.ID, \"startDate\"))\n",
    "    )\n",
    "date_start = driver.find_element_by_id('startDate')\n",
    "date_start.clear()\n",
    "date_start.send_keys(start_date)\n",
    "\n",
    "date_end = driver.find_element_by_id('endDate')\n",
    "date_end.clear()\n",
    "date_end.send_keys(end_date)\n",
    "driver.find_element_by_id('ui-datepicker-div').find_element_by_id('applyBtn').click()\n",
    "\n",
    "# This will wait till page is loaded for the specified element id\n",
    "WebDriverWait(driver, 20).until(\n",
    "        EC.presence_of_element_located((By.ID, \"curr_table\"))\n",
    "    )\n",
    "\n",
    "table = driver.find_element_by_id('curr_table')\n",
    "\n",
    "col_names = [th.text for th in table.find_elements_by_tag_name('th')]\n",
    "data_dict_list=[]\n",
    "for row in table.find_elements_by_tag_name('tr')[1:]:\n",
    "    data = [td.text for td in row.find_elements_by_tag_name('td')]\n",
    "    data_dict={}\n",
    "    for i, col in enumerate(col_names):\n",
    "        data_dict[col] = data[i]\n",
    "    data_dict_list.append(data_dict)\n",
    "DF = pd.DataFrame(data_dict_list)\n",
    "DF['Date'] = pd.to_datetime(DF['Date'])\n",
    "DF['Price'].str.replace(',','').astype('float')\n",
    "\n",
    "driver.close()\n",
    "DF.head()"
   ]
  },
  {
   "cell_type": "markdown",
   "metadata": {},
   "source": [
    "### Write to file.\n",
    "uncomment to write."
   ]
  },
  {
   "cell_type": "code",
   "execution_count": 32,
   "metadata": {},
   "outputs": [],
   "source": [
    "# # Write to file as csv\n",
    "DF.to_csv(f'investing_{url_key.strip(\"_url\")}_price.csv', index=False)"
   ]
  },
  {
   "cell_type": "markdown",
   "metadata": {},
   "source": [
    "Read file to verify"
   ]
  },
  {
   "cell_type": "code",
   "execution_count": 33,
   "metadata": {},
   "outputs": [
    {
     "data": {
      "image/png": "[encoded data removed]",
      "text/plain": [
       "<Figure size 432x288 with 1 Axes>"
      ]
     },
     "metadata": {
      "needs_background": "light"
     },
     "output_type": "display_data"
    }
   ],
   "source": [
    "DF = pd.read_csv(f'investing_{url_key.strip(\"_url\")}_price.csv', index_col = 0, parse_dates=True)\n",
    "try:\n",
    "    DF['Price'][DF.index.year > 2013].plot()\n",
    "except Exception as e:\n",
    "    print(e)\n",
    "    DF['Price'][DF.index.year > 2013].str.replace(',','').astype('float').plot()"
   ]
  },
  {
   "cell_type": "code",
   "execution_count": null,
   "metadata": {},
   "outputs": [],
   "source": []
  }
 ],
 "metadata": {
  "kernelspec": {
   "display_name": "Python 3",
   "language": "python",
   "name": "python3"
  },
  "language_info": {
   "codemirror_mode": {
    "name": "ipython",
    "version": 3
   },
   "file_extension": ".py",
   "mimetype": "text/x-python",
   "name": "python",
   "nbconvert_exporter": "python",
   "pygments_lexer": "ipython3",
   "version": "3.7.4"
  }
 },
 "nbformat": 4,
 "nbformat_minor": 4
}
