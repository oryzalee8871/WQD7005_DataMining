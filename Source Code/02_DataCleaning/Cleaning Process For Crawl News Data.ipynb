{
 "cells": [
  {
   "cell_type": "code",
   "execution_count": 11,
   "metadata": {},
   "outputs": [],
   "source": [
    "import pandas as pd"
   ]
  },
  {
   "cell_type": "code",
   "execution_count": 12,
   "metadata": {},
   "outputs": [],
   "source": [
    "NewsData = pd.read_json('../../A_Raw_Data/RawDataCrawlFromNews/All_news_from_the_edge_regarding_Palm_Oil.json')"
   ]
  },
  {
   "cell_type": "code",
   "execution_count": 13,
   "metadata": {},
   "outputs": [
    {
     "data": {
      "text/plain": [
       "news_title      0\n",
       "news_date       0\n",
       "news_content    2\n",
       "dtype: int64"
      ]
     },
     "execution_count": 13,
     "metadata": {},
     "output_type": "execute_result"
    }
   ],
   "source": [
    "#Check Missing Data in Raw News Data\n",
    "NewsData.isnull().sum()"
   ]
  },
  {
   "cell_type": "code",
   "execution_count": 14,
   "metadata": {},
   "outputs": [
    {
     "data": {
      "text/plain": [
       "news_title      0\n",
       "news_date       0\n",
       "news_content    2\n",
       "dtype: int64"
      ]
     },
     "execution_count": 14,
     "metadata": {},
     "output_type": "execute_result"
    }
   ],
   "source": [
    "NewsData.isna().sum()"
   ]
  },
  {
   "cell_type": "code",
   "execution_count": 15,
   "metadata": {},
   "outputs": [
    {
     "data": {
      "text/html": [
       "<div>\n",
       "<style scoped>\n",
       "    .dataframe tbody tr th:only-of-type {\n",
       "        vertical-align: middle;\n",
       "    }\n",
       "\n",
       "    .dataframe tbody tr th {\n",
       "        vertical-align: top;\n",
       "    }\n",
       "\n",
       "    .dataframe thead th {\n",
       "        text-align: right;\n",
       "    }\n",
       "</style>\n",
       "<table border=\"1\" class=\"dataframe\">\n",
       "  <thead>\n",
       "    <tr style=\"text-align: right;\">\n",
       "      <th></th>\n",
       "      <th>news_title</th>\n",
       "      <th>news_date</th>\n",
       "      <th>news_content</th>\n",
       "    </tr>\n",
       "  </thead>\n",
       "  <tbody>\n",
       "    <tr>\n",
       "      <td>3336</td>\n",
       "      <td>Palm oil may break support at 3,089 ringgit</td>\n",
       "      <td>Monday, 23 January 2017</td>\n",
       "      <td>NaN</td>\n",
       "    </tr>\n",
       "    <tr>\n",
       "      <td>4366</td>\n",
       "      <td>Ronser comes out with innovative palm oil wast...</td>\n",
       "      <td>Friday, 8 April 2016</td>\n",
       "      <td>NaN</td>\n",
       "    </tr>\n",
       "  </tbody>\n",
       "</table>\n",
       "</div>"
      ],
      "text/plain": [
       "                                             news_title  \\\n",
       "3336        Palm oil may break support at 3,089 ringgit   \n",
       "4366  Ronser comes out with innovative palm oil wast...   \n",
       "\n",
       "                    news_date news_content  \n",
       "3336  Monday, 23 January 2017          NaN  \n",
       "4366     Friday, 8 April 2016          NaN  "
      ]
     },
     "execution_count": 15,
     "metadata": {},
     "output_type": "execute_result"
    }
   ],
   "source": [
    "#Display Row with Null Value\n",
    "NewsData[NewsData.isna().any(axis=1)]"
   ]
  },
  {
   "cell_type": "code",
   "execution_count": 16,
   "metadata": {},
   "outputs": [],
   "source": [
    "#Remove the entire row with null value found\n",
    "NewsData.dropna(subset=['news_content'], inplace=True)\n"
   ]
  },
  {
   "cell_type": "code",
   "execution_count": 17,
   "metadata": {},
   "outputs": [
    {
     "data": {
      "text/plain": [
       "news_title      0\n",
       "news_date       0\n",
       "news_content    0\n",
       "dtype: int64"
      ]
     },
     "execution_count": 17,
     "metadata": {},
     "output_type": "execute_result"
    }
   ],
   "source": [
    "#Recheck whether the Data contains anymore null value\n",
    "NewsData.isna().sum()"
   ]
  },
  {
   "cell_type": "code",
   "execution_count": 22,
   "metadata": {},
   "outputs": [],
   "source": [
    "NewsData['news_date_update'] = NewsData['news_date'].apply(lambda x: x.split(',')[1])"
   ]
  },
  {
   "cell_type": "code",
   "execution_count": 23,
   "metadata": {},
   "outputs": [
    {
     "data": {
      "text/html": [
       "<div>\n",
       "<style scoped>\n",
       "    .dataframe tbody tr th:only-of-type {\n",
       "        vertical-align: middle;\n",
       "    }\n",
       "\n",
       "    .dataframe tbody tr th {\n",
       "        vertical-align: top;\n",
       "    }\n",
       "\n",
       "    .dataframe thead th {\n",
       "        text-align: right;\n",
       "    }\n",
       "</style>\n",
       "<table border=\"1\" class=\"dataframe\">\n",
       "  <thead>\n",
       "    <tr style=\"text-align: right;\">\n",
       "      <th></th>\n",
       "      <th>news_title</th>\n",
       "      <th>news_date</th>\n",
       "      <th>news_content</th>\n",
       "      <th>news_date_update</th>\n",
       "    </tr>\n",
       "  </thead>\n",
       "  <tbody>\n",
       "    <tr>\n",
       "      <td>0</td>\n",
       "      <td>AirAsia X, Alliance, Berjaya Corp, CIMB, Desti...</td>\n",
       "      <td>Saturday, 29 February 2020</td>\n",
       "      <td>[ ... period, due to improved crude , palm,  ,...</td>\n",
       "      <td>29 February 2020</td>\n",
       "    </tr>\n",
       "    <tr>\n",
       "      <td>1</td>\n",
       "      <td>Sime Darby Plantation: COVID-19 has dried up p...</td>\n",
       "      <td>Friday, 28 February 2020</td>\n",
       "      <td>[ ... has resulted in demand for , palm,  , oi...</td>\n",
       "      <td>28 February 2020</td>\n",
       "    </tr>\n",
       "    <tr>\n",
       "      <td>2</td>\n",
       "      <td>Commodities savaged in sell-off as coronavirus...</td>\n",
       "      <td>Friday, 28 February 2020</td>\n",
       "      <td>[ ... events this week at the , oil,  industry...</td>\n",
       "      <td>28 February 2020</td>\n",
       "    </tr>\n",
       "    <tr>\n",
       "      <td>3</td>\n",
       "      <td>TDM gets RM210m offer for two loss-making Indo...</td>\n",
       "      <td>Friday, 28 February 2020</td>\n",
       "      <td>[ ... Melawi. RKA also has a , palm,  , oil,  ...</td>\n",
       "      <td>28 February 2020</td>\n",
       "    </tr>\n",
       "    <tr>\n",
       "      <td>4</td>\n",
       "      <td>No planned divestment of MSM stake, says FGV</td>\n",
       "      <td>Friday, 28 February 2020</td>\n",
       "      <td>[ ... , as long as crude , palm,  , oil,  (CPO...</td>\n",
       "      <td>28 February 2020</td>\n",
       "    </tr>\n",
       "  </tbody>\n",
       "</table>\n",
       "</div>"
      ],
      "text/plain": [
       "                                          news_title  \\\n",
       "0  AirAsia X, Alliance, Berjaya Corp, CIMB, Desti...   \n",
       "1  Sime Darby Plantation: COVID-19 has dried up p...   \n",
       "2  Commodities savaged in sell-off as coronavirus...   \n",
       "3  TDM gets RM210m offer for two loss-making Indo...   \n",
       "4       No planned divestment of MSM stake, says FGV   \n",
       "\n",
       "                    news_date  \\\n",
       "0  Saturday, 29 February 2020   \n",
       "1    Friday, 28 February 2020   \n",
       "2    Friday, 28 February 2020   \n",
       "3    Friday, 28 February 2020   \n",
       "4    Friday, 28 February 2020   \n",
       "\n",
       "                                        news_content   news_date_update  \n",
       "0  [ ... period, due to improved crude , palm,  ,...   29 February 2020  \n",
       "1  [ ... has resulted in demand for , palm,  , oi...   28 February 2020  \n",
       "2  [ ... events this week at the , oil,  industry...   28 February 2020  \n",
       "3  [ ... Melawi. RKA also has a , palm,  , oil,  ...   28 February 2020  \n",
       "4  [ ... , as long as crude , palm,  , oil,  (CPO...   28 February 2020  "
      ]
     },
     "execution_count": 23,
     "metadata": {},
     "output_type": "execute_result"
    }
   ],
   "source": [
    "NewsData.head()"
   ]
  },
  {
   "cell_type": "code",
   "execution_count": 24,
   "metadata": {},
   "outputs": [],
   "source": [
    "#Remove the old Date column 'news_date'\n",
    "NewsDataUpdate=NewsData.drop(['news_date'], axis=1)"
   ]
  },
  {
   "cell_type": "code",
   "execution_count": 25,
   "metadata": {},
   "outputs": [
    {
     "data": {
      "text/html": [
       "<div>\n",
       "<style scoped>\n",
       "    .dataframe tbody tr th:only-of-type {\n",
       "        vertical-align: middle;\n",
       "    }\n",
       "\n",
       "    .dataframe tbody tr th {\n",
       "        vertical-align: top;\n",
       "    }\n",
       "\n",
       "    .dataframe thead th {\n",
       "        text-align: right;\n",
       "    }\n",
       "</style>\n",
       "<table border=\"1\" class=\"dataframe\">\n",
       "  <thead>\n",
       "    <tr style=\"text-align: right;\">\n",
       "      <th></th>\n",
       "      <th>news_title</th>\n",
       "      <th>news_content</th>\n",
       "      <th>news_date_update</th>\n",
       "    </tr>\n",
       "  </thead>\n",
       "  <tbody>\n",
       "    <tr>\n",
       "      <td>0</td>\n",
       "      <td>AirAsia X, Alliance, Berjaya Corp, CIMB, Desti...</td>\n",
       "      <td>[ ... period, due to improved crude , palm,  ,...</td>\n",
       "      <td>29 February 2020</td>\n",
       "    </tr>\n",
       "    <tr>\n",
       "      <td>1</td>\n",
       "      <td>Sime Darby Plantation: COVID-19 has dried up p...</td>\n",
       "      <td>[ ... has resulted in demand for , palm,  , oi...</td>\n",
       "      <td>28 February 2020</td>\n",
       "    </tr>\n",
       "    <tr>\n",
       "      <td>2</td>\n",
       "      <td>Commodities savaged in sell-off as coronavirus...</td>\n",
       "      <td>[ ... events this week at the , oil,  industry...</td>\n",
       "      <td>28 February 2020</td>\n",
       "    </tr>\n",
       "    <tr>\n",
       "      <td>3</td>\n",
       "      <td>TDM gets RM210m offer for two loss-making Indo...</td>\n",
       "      <td>[ ... Melawi. RKA also has a , palm,  , oil,  ...</td>\n",
       "      <td>28 February 2020</td>\n",
       "    </tr>\n",
       "    <tr>\n",
       "      <td>4</td>\n",
       "      <td>No planned divestment of MSM stake, says FGV</td>\n",
       "      <td>[ ... , as long as crude , palm,  , oil,  (CPO...</td>\n",
       "      <td>28 February 2020</td>\n",
       "    </tr>\n",
       "  </tbody>\n",
       "</table>\n",
       "</div>"
      ],
      "text/plain": [
       "                                          news_title  \\\n",
       "0  AirAsia X, Alliance, Berjaya Corp, CIMB, Desti...   \n",
       "1  Sime Darby Plantation: COVID-19 has dried up p...   \n",
       "2  Commodities savaged in sell-off as coronavirus...   \n",
       "3  TDM gets RM210m offer for two loss-making Indo...   \n",
       "4       No planned divestment of MSM stake, says FGV   \n",
       "\n",
       "                                        news_content   news_date_update  \n",
       "0  [ ... period, due to improved crude , palm,  ,...   29 February 2020  \n",
       "1  [ ... has resulted in demand for , palm,  , oi...   28 February 2020  \n",
       "2  [ ... events this week at the , oil,  industry...   28 February 2020  \n",
       "3  [ ... Melawi. RKA also has a , palm,  , oil,  ...   28 February 2020  \n",
       "4  [ ... , as long as crude , palm,  , oil,  (CPO...   28 February 2020  "
      ]
     },
     "execution_count": 25,
     "metadata": {},
     "output_type": "execute_result"
    }
   ],
   "source": [
    "NewsDataUpdate.head()"
   ]
  },
  {
   "cell_type": "code",
   "execution_count": 27,
   "metadata": {},
   "outputs": [],
   "source": [
    "NewsDataUpdate.to_csv('../../B_Processed_Data/Processed_NewsData.csv',index=False)"
   ]
  },
  {
   "cell_type": "code",
   "execution_count": null,
   "metadata": {},
   "outputs": [],
   "source": []
  }
 ],
 "metadata": {
  "kernelspec": {
   "display_name": "Python 3",
   "language": "python",
   "name": "python3"
  },
  "language_info": {
   "codemirror_mode": {
    "name": "ipython",
    "version": 3
   },
   "file_extension": ".py",
   "mimetype": "text/x-python",
   "name": "python",
   "nbconvert_exporter": "python",
   "pygments_lexer": "ipython3",
   "version": "3.7.4"
  }
 },
 "nbformat": 4,
 "nbformat_minor": 4
}
