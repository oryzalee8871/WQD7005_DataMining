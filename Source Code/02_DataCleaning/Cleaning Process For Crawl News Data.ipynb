import pandas as pd

NewsData = pd.read_json('C:\\Users\\oryza\\OneDrive\\Desktop\\DataScience\\Web_Scrap_from_youtube\\virtual_env\\demo_CPO_production\\WQD7005_DataMining\\A_Raw_Data\\RawDataCrawlFromNews\\All_news_from_the_edge_regarding_Palm_Oil.json')

#Check Missing Data in Raw News Data
NewsData.isnull().sum()

#Display Row with Null Value
NewsData[NewsData.isna().any(axis=1)]

#Remove the entire row with null value found
NewsData.dropna(subset=['news_content'], inplace=True)

#Recheck whether the Data contains anymore null value
NewsData.isna().sum()

#Remove Days from Date column and assign to a new column called 'news_date_update'
for i in NewsData['news_date']:
    u=i.split(',')
    print(u[1])
    NewsData['news_date_update']=u[1]

NewsData.head()

#Remove the old Date column 'news_date'
NewsDataUpdate=NewsData.drop(['news_date'], axis=1)

NewsDataUpdate.head()
