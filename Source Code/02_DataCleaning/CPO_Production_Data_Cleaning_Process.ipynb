{
 "cells": [
  {
   "cell_type": "code",
   "execution_count": 6,
   "metadata": {},
   "outputs": [],
   "source": [
    "import pandas as pd\n",
    "import os\n",
    "import glob"
   ]
  },
  {
   "cell_type": "code",
   "execution_count": 4,
   "metadata": {},
   "outputs": [],
   "source": [
    "os.chdir('C:\\\\Users\\\\oryza\\\\OneDrive\\\\Desktop\\\\DataScience\\\\Web_Scrap_from_youtube\\\\virtual_env\\\\demo_CPO_production\\\\WQD7005_DataMining\\\\A_Raw_Data\\\\CPOMalaysiaProductionByMonth')"
   ]
  },
  {
   "cell_type": "code",
   "execution_count": 5,
   "metadata": {},
   "outputs": [
    {
     "data": {
      "text/plain": [
       "'C:\\\\Users\\\\oryza\\\\OneDrive\\\\Desktop\\\\DataScience\\\\Web_Scrap_from_youtube\\\\virtual_env\\\\demo_CPO_production\\\\WQD7005_DataMining\\\\A_Raw_Data\\\\CPOMalaysiaProductionByMonth'"
      ]
     },
     "execution_count": 5,
     "metadata": {},
     "output_type": "execute_result"
    }
   ],
   "source": [
    "os.getcwd()"
   ]
  },
  {
   "cell_type": "code",
   "execution_count": 9,
   "metadata": {},
   "outputs": [],
   "source": [
    "path=r'C:\\Users\\oryza\\OneDrive\\Desktop\\DataScience\\Web_Scrap_from_youtube\\virtual_env\\demo_CPO_production\\WQD7005_DataMining\\A_Raw_Data\\CPOMalaysiaProductionByMonth'\n",
    "all_files = glob.glob(path + \"/*.json\")"
   ]
  },
  {
   "cell_type": "code",
   "execution_count": 12,
   "metadata": {},
   "outputs": [
    {
     "data": {
      "text/plain": [
       "['C:\\\\Users\\\\oryza\\\\OneDrive\\\\Desktop\\\\DataScience\\\\Web_Scrap_from_youtube\\\\virtual_env\\\\demo_CPO_production\\\\WQD7005_DataMining\\\\A_Raw_Data\\\\CPOMalaysiaProductionByMonth\\\\CPOProduction2013.json',\n",
       " 'C:\\\\Users\\\\oryza\\\\OneDrive\\\\Desktop\\\\DataScience\\\\Web_Scrap_from_youtube\\\\virtual_env\\\\demo_CPO_production\\\\WQD7005_DataMining\\\\A_Raw_Data\\\\CPOMalaysiaProductionByMonth\\\\CPO_Production2014.json',\n",
       " 'C:\\\\Users\\\\oryza\\\\OneDrive\\\\Desktop\\\\DataScience\\\\Web_Scrap_from_youtube\\\\virtual_env\\\\demo_CPO_production\\\\WQD7005_DataMining\\\\A_Raw_Data\\\\CPOMalaysiaProductionByMonth\\\\CPO_Production2015.json',\n",
       " 'C:\\\\Users\\\\oryza\\\\OneDrive\\\\Desktop\\\\DataScience\\\\Web_Scrap_from_youtube\\\\virtual_env\\\\demo_CPO_production\\\\WQD7005_DataMining\\\\A_Raw_Data\\\\CPOMalaysiaProductionByMonth\\\\CPO_Production2016.json',\n",
       " 'C:\\\\Users\\\\oryza\\\\OneDrive\\\\Desktop\\\\DataScience\\\\Web_Scrap_from_youtube\\\\virtual_env\\\\demo_CPO_production\\\\WQD7005_DataMining\\\\A_Raw_Data\\\\CPOMalaysiaProductionByMonth\\\\CPO_Production2017.json',\n",
       " 'C:\\\\Users\\\\oryza\\\\OneDrive\\\\Desktop\\\\DataScience\\\\Web_Scrap_from_youtube\\\\virtual_env\\\\demo_CPO_production\\\\WQD7005_DataMining\\\\A_Raw_Data\\\\CPOMalaysiaProductionByMonth\\\\CPO_Production2018.json',\n",
       " 'C:\\\\Users\\\\oryza\\\\OneDrive\\\\Desktop\\\\DataScience\\\\Web_Scrap_from_youtube\\\\virtual_env\\\\demo_CPO_production\\\\WQD7005_DataMining\\\\A_Raw_Data\\\\CPOMalaysiaProductionByMonth\\\\CPO_Production2019.json']"
      ]
     },
     "execution_count": 12,
     "metadata": {},
     "output_type": "execute_result"
    }
   ],
   "source": [
    "all_files[0:]"
   ]
  },
  {
   "cell_type": "code",
   "execution_count": 25,
   "metadata": {},
   "outputs": [],
   "source": [
    "File_2013=all_files[0]\n",
    "File_2014=all_files[1]\n",
    "File_2015=all_files[2]\n",
    "File_2016=all_files[3]\n",
    "File_2017=all_files[4]\n",
    "File_2018=all_files[5]\n",
    "File_2019=all_files[6]\n"
   ]
  },
  {
   "cell_type": "code",
   "execution_count": 26,
   "metadata": {},
   "outputs": [],
   "source": [
    "File_2013_json=pd.read_json(File_2013)\n",
    "File_2014_json=pd.read_json(File_2014)\n",
    "File_2015_json=pd.read_json(File_2015)\n",
    "File_2016_json=pd.read_json(File_2016)\n",
    "File_2017_json=pd.read_json(File_2017)\n",
    "File_2018_json=pd.read_json(File_2018)\n",
    "File_2019_json=pd.read_json(File_2019)"
   ]
  },
  {
   "cell_type": "code",
   "execution_count": 27,
   "metadata": {},
   "outputs": [
    {
     "name": "stdout",
     "output_type": "stream",
     "text": [
      "      Year  Month   Production\n",
      "0      NaN    NaN          NaN\n",
      "1   2013.0    NaN          NaN\n",
      "2      NaN  [Jan]  [1,288,294]\n",
      "3      NaN  [Feb]  [1,188,356]\n",
      "4      NaN  [Mar]  [1,211,257]\n",
      "5      NaN  [Apr]  [1,272,622]\n",
      "6      NaN  [May]  [1,383,735]\n",
      "7      NaN  [Jun]  [1,470,648]\n",
      "8      NaN  [Jul]  [1,691,916]\n",
      "9      NaN  [Aug]  [1,664,249]\n",
      "10     NaN  [Sep]  [2,004,238]\n",
      "11     NaN  [Oct]  [1,938,430]\n",
      "12     NaN  [Nov]  [1,891,132]\n",
      "13     NaN  [Dec]  [1,780,262]\n",
      "14     NaN    NaN          NaN\n",
      "      Year  Month   Production\n",
      "0      NaN    NaN          NaN\n",
      "1   2014.0    NaN          NaN\n",
      "2      NaN  [Jan]  [1,508,980]\n",
      "3      NaN  [Feb]  [1,277,999]\n",
      "4      NaN  [Mar]  [1,497,145]\n",
      "5      NaN  [Apr]  [1,555,777]\n",
      "6      NaN  [May]  [1,656,970]\n",
      "7      NaN  [Jun]  [1,569,788]\n",
      "8      NaN  [Jul]  [1,665,612]\n",
      "9      NaN  [Aug]  [2,031,754]\n",
      "10     NaN  [Sep]  [1,896,899]\n",
      "11     NaN  [Oct]  [1,892,996]\n",
      "12     NaN  [Nov]  [1,750,567]\n",
      "13     NaN  [Dec]  [1,364,797]\n",
      "14     NaN    NaN          NaN\n",
      "     Month    Year   Production\n",
      "0      [ ]     NaN          NaN\n",
      "1      [ ]  2015.0          NaN\n",
      "2    [Jan]     NaN  [1,160,687]\n",
      "3    [Feb]     NaN  [1,121,628]\n",
      "4    [Mar]     NaN  [1,495,151]\n",
      "5    [Apr]     NaN  [1,693,425]\n",
      "6    [May]     NaN  [1,810,530]\n",
      "7   [June]     NaN  [1,763,667]\n",
      "8    [Jul]     NaN  [1,815,634]\n",
      "9    [Aug]     NaN  [2,051,000]\n",
      "10   [Sep]     NaN  [1,959,064]\n",
      "11   [Oct]     NaN  [2,037,466]\n",
      "12   [Nov]     NaN  [1,653,946]\n",
      "13   [Dec]     NaN  [1,399,383]\n",
      "14     NaN     NaN          NaN\n",
      "          Year       Month   Production\n",
      "0   Production         NaN          NaN\n",
      "1         2016         NaN          NaN\n",
      "2          NaN       [Jan]  [1,129,747]\n",
      "3          NaN       [Feb]  [1,042,904]\n",
      "4          NaN       [Mar]  [1,219,449]\n",
      "5          NaN       [Apr]  [1,301,291]\n",
      "6          NaN       [May]  [1,364,583]\n",
      "7          NaN      [June]  [1,532,613]\n",
      "8          NaN       [Jul]  [1,585,341]\n",
      "9          NaN       [Aug]  [1,701,833]\n",
      "10         NaN       [Sep]  [1,715,085]\n",
      "11         NaN       [Oct]  [1,677,873]\n",
      "12         NaN       [Nov]  [1,574,938]\n",
      "13         NaN       [Dec]  [1,473,717]\n",
      "14         NaN  [*Jan-Dec]  [1,443,281]\n",
      "          Year       Month   Production\n",
      "0   Production         NaN          NaN\n",
      "1         2017         NaN          NaN\n",
      "2          NaN       [Jan]  [1,276,849]\n",
      "3          NaN       [Feb]  [1,258,539]\n",
      "4          NaN       [Mar]  [1,464,021]\n",
      "5          NaN       [Apr]  [1,548,026]\n",
      "6          NaN       [May]  [1,654,494]\n",
      "7          NaN      [June]  [1,514,165]\n",
      "8          NaN       [Jul]  [1,826,828]\n",
      "9          NaN       [Aug]  [1,810,551]\n",
      "10         NaN       [Sep]  [1,779,918]\n",
      "11         NaN       [Oct]  [2,008,838]\n",
      "12         NaN       [Nov]  [1,942,847]\n",
      "13         NaN       [Dec]  [1,834,167]\n",
      "14         NaN  [*Jan-Dec]  [1,659,937]\n",
      "          Year       Month   Production\n",
      "0   Production         NaN          NaN\n",
      "1         2018         NaN          NaN\n",
      "2          NaN       [Jan]  [1,586,653]\n",
      "3          NaN       [Feb]  [1,342,805]\n",
      "4          NaN       [Mar]  [1,573,957]\n",
      "5          NaN       [Apr]  [1,558,331]\n",
      "6          NaN       [May]  [1,525,405]\n",
      "7          NaN      [June]  [1,332,704]\n",
      "8          NaN       [Jul]  [1,503,220]\n",
      "9          NaN       [Aug]  [1,620,605]\n",
      "10         NaN       [Sep]  [1,853,602]\n",
      "11         NaN       [Oct]  [1,964,954]\n",
      "12         NaN       [Nov]  [1,845,222]\n",
      "13         NaN       [Dec]  [1,808,038]\n",
      "14         NaN  [*Jan-Dec]  [1,626,291]\n",
      "      Year   Month   Production\n",
      "0      NaN     NaN          NaN\n",
      "1   2019.0     NaN          NaN\n",
      "2      NaN   [Jan]  [1,737,461]\n",
      "3      NaN   [Feb]  [1,544,518]\n",
      "4      NaN   [Mar]  [1,672,058]\n",
      "5      NaN   [Apr]  [1,649,368]\n",
      "6      NaN   [May]  [1,671,467]\n",
      "7      NaN  [June]  [1,510,957]\n",
      "8      NaN   [Jul]  [1,740,759]\n",
      "9      NaN   [Aug]  [1,821,548]\n",
      "10     NaN   [Sep]  [1,842,433]\n",
      "11     NaN   [Oct]  [1,795,841]\n",
      "12     NaN   [Nov]  [1,538,053]\n",
      "13     NaN   [Dec]  [1,333,904]\n",
      "14     NaN     NaN          NaN\n"
     ]
    }
   ],
   "source": [
    "print(File_2013_json)\n",
    "print(File_2014_json)\n",
    "print(File_2015_json)\n",
    "print(File_2016_json)\n",
    "print(File_2017_json)\n",
    "print(File_2018_json)\n",
    "print(File_2019_json)\n"
   ]
  },
  {
   "cell_type": "code",
   "execution_count": 29,
   "metadata": {},
   "outputs": [],
   "source": [
    "File_2013_json_Update=File_2013_json.drop(['Year'], axis=1)\n",
    "File_2014_json_Update=File_2014_json.drop(['Year'], axis=1)\n",
    "File_2015_json_Update=File_2015_json.drop(['Year'], axis=1)\n",
    "File_2016_json_Update=File_2016_json.drop(['Year'], axis=1)\n",
    "File_2017_json_Update=File_2017_json.drop(['Year'], axis=1)\n",
    "File_2018_json_Update=File_2018_json.drop(['Year'], axis=1)\n",
    "File_2019_json_Update=File_2019_json.drop(['Year'], axis=1)"
   ]
  },
  {
   "cell_type": "code",
   "execution_count": 31,
   "metadata": {},
   "outputs": [
    {
     "data": {
      "text/plain": [
       "Month         3\n",
       "Production    3\n",
       "dtype: int64"
      ]
     },
     "execution_count": 31,
     "metadata": {},
     "output_type": "execute_result"
    }
   ],
   "source": [
    "File_2013_json_Update.isna().sum()"
   ]
  },
  {
   "cell_type": "code",
   "execution_count": 32,
   "metadata": {},
   "outputs": [
    {
     "data": {
      "text/plain": [
       "Month         3\n",
       "Production    3\n",
       "dtype: int64"
      ]
     },
     "execution_count": 32,
     "metadata": {},
     "output_type": "execute_result"
    }
   ],
   "source": [
    "File_2014_json_Update.isna().sum()"
   ]
  },
  {
   "cell_type": "code",
   "execution_count": 33,
   "metadata": {},
   "outputs": [
    {
     "data": {
      "text/plain": [
       "Month         1\n",
       "Production    3\n",
       "dtype: int64"
      ]
     },
     "execution_count": 33,
     "metadata": {},
     "output_type": "execute_result"
    }
   ],
   "source": [
    "File_2015_json_Update.isna().sum()"
   ]
  },
  {
   "cell_type": "code",
   "execution_count": 34,
   "metadata": {},
   "outputs": [
    {
     "data": {
      "text/plain": [
       "Month         2\n",
       "Production    2\n",
       "dtype: int64"
      ]
     },
     "execution_count": 34,
     "metadata": {},
     "output_type": "execute_result"
    }
   ],
   "source": [
    "File_2016_json_Update.isna().sum()"
   ]
  },
  {
   "cell_type": "code",
   "execution_count": 35,
   "metadata": {},
   "outputs": [
    {
     "data": {
      "text/plain": [
       "Month         2\n",
       "Production    2\n",
       "dtype: int64"
      ]
     },
     "execution_count": 35,
     "metadata": {},
     "output_type": "execute_result"
    }
   ],
   "source": [
    "File_2017_json_Update.isna().sum()"
   ]
  },
  {
   "cell_type": "code",
   "execution_count": 36,
   "metadata": {},
   "outputs": [
    {
     "data": {
      "text/plain": [
       "Month         2\n",
       "Production    2\n",
       "dtype: int64"
      ]
     },
     "execution_count": 36,
     "metadata": {},
     "output_type": "execute_result"
    }
   ],
   "source": [
    "File_2018_json_Update.isna().sum()"
   ]
  },
  {
   "cell_type": "code",
   "execution_count": 37,
   "metadata": {},
   "outputs": [
    {
     "data": {
      "text/plain": [
       "Month         3\n",
       "Production    3\n",
       "dtype: int64"
      ]
     },
     "execution_count": 37,
     "metadata": {},
     "output_type": "execute_result"
    }
   ],
   "source": [
    "File_2019_json_Update.isna().sum()"
   ]
  },
  {
   "cell_type": "code",
   "execution_count": 38,
   "metadata": {},
   "outputs": [],
   "source": [
    "File_2013_json_Update.dropna(inplace=True)\n",
    "File_2014_json_Update.dropna(inplace=True)\n",
    "File_2015_json_Update.dropna(inplace=True)\n",
    "File_2016_json_Update.dropna(inplace=True)\n",
    "File_2017_json_Update.dropna(inplace=True)\n",
    "File_2018_json_Update.dropna(inplace=True)\n",
    "File_2019_json_Update.dropna(inplace=True)\n",
    "\n"
   ]
  },
  {
   "cell_type": "code",
   "execution_count": 22,
   "metadata": {},
   "outputs": [
    {
     "data": {
      "text/html": [
       "<div>\n",
       "<style scoped>\n",
       "    .dataframe tbody tr th:only-of-type {\n",
       "        vertical-align: middle;\n",
       "    }\n",
       "\n",
       "    .dataframe tbody tr th {\n",
       "        vertical-align: top;\n",
       "    }\n",
       "\n",
       "    .dataframe thead th {\n",
       "        text-align: right;\n",
       "    }\n",
       "</style>\n",
       "<table border=\"1\" class=\"dataframe\">\n",
       "  <thead>\n",
       "    <tr style=\"text-align: right;\">\n",
       "      <th></th>\n",
       "      <th>Month</th>\n",
       "      <th>Production</th>\n",
       "    </tr>\n",
       "  </thead>\n",
       "  <tbody>\n",
       "    <tr>\n",
       "      <td>2</td>\n",
       "      <td>[Jan]</td>\n",
       "      <td>[1,288,294]</td>\n",
       "    </tr>\n",
       "    <tr>\n",
       "      <td>3</td>\n",
       "      <td>[Feb]</td>\n",
       "      <td>[1,188,356]</td>\n",
       "    </tr>\n",
       "    <tr>\n",
       "      <td>4</td>\n",
       "      <td>[Mar]</td>\n",
       "      <td>[1,211,257]</td>\n",
       "    </tr>\n",
       "    <tr>\n",
       "      <td>5</td>\n",
       "      <td>[Apr]</td>\n",
       "      <td>[1,272,622]</td>\n",
       "    </tr>\n",
       "    <tr>\n",
       "      <td>6</td>\n",
       "      <td>[May]</td>\n",
       "      <td>[1,383,735]</td>\n",
       "    </tr>\n",
       "    <tr>\n",
       "      <td>7</td>\n",
       "      <td>[Jun]</td>\n",
       "      <td>[1,470,648]</td>\n",
       "    </tr>\n",
       "    <tr>\n",
       "      <td>8</td>\n",
       "      <td>[Jul]</td>\n",
       "      <td>[1,691,916]</td>\n",
       "    </tr>\n",
       "    <tr>\n",
       "      <td>9</td>\n",
       "      <td>[Aug]</td>\n",
       "      <td>[1,664,249]</td>\n",
       "    </tr>\n",
       "    <tr>\n",
       "      <td>10</td>\n",
       "      <td>[Sep]</td>\n",
       "      <td>[2,004,238]</td>\n",
       "    </tr>\n",
       "    <tr>\n",
       "      <td>11</td>\n",
       "      <td>[Oct]</td>\n",
       "      <td>[1,938,430]</td>\n",
       "    </tr>\n",
       "    <tr>\n",
       "      <td>12</td>\n",
       "      <td>[Nov]</td>\n",
       "      <td>[1,891,132]</td>\n",
       "    </tr>\n",
       "    <tr>\n",
       "      <td>13</td>\n",
       "      <td>[Dec]</td>\n",
       "      <td>[1,780,262]</td>\n",
       "    </tr>\n",
       "  </tbody>\n",
       "</table>\n",
       "</div>"
      ],
      "text/plain": [
       "    Month   Production\n",
       "2   [Jan]  [1,288,294]\n",
       "3   [Feb]  [1,188,356]\n",
       "4   [Mar]  [1,211,257]\n",
       "5   [Apr]  [1,272,622]\n",
       "6   [May]  [1,383,735]\n",
       "7   [Jun]  [1,470,648]\n",
       "8   [Jul]  [1,691,916]\n",
       "9   [Aug]  [1,664,249]\n",
       "10  [Sep]  [2,004,238]\n",
       "11  [Oct]  [1,938,430]\n",
       "12  [Nov]  [1,891,132]\n",
       "13  [Dec]  [1,780,262]"
      ]
     },
     "execution_count": 22,
     "metadata": {},
     "output_type": "execute_result"
    }
   ],
   "source": [
    "File_2013_json_Update"
   ]
  },
  {
   "cell_type": "code",
   "execution_count": 39,
   "metadata": {},
   "outputs": [
    {
     "data": {
      "text/html": [
       "<div>\n",
       "<style scoped>\n",
       "    .dataframe tbody tr th:only-of-type {\n",
       "        vertical-align: middle;\n",
       "    }\n",
       "\n",
       "    .dataframe tbody tr th {\n",
       "        vertical-align: top;\n",
       "    }\n",
       "\n",
       "    .dataframe thead th {\n",
       "        text-align: right;\n",
       "    }\n",
       "</style>\n",
       "<table border=\"1\" class=\"dataframe\">\n",
       "  <thead>\n",
       "    <tr style=\"text-align: right;\">\n",
       "      <th></th>\n",
       "      <th>Month</th>\n",
       "      <th>Production</th>\n",
       "    </tr>\n",
       "  </thead>\n",
       "  <tbody>\n",
       "    <tr>\n",
       "      <td>2</td>\n",
       "      <td>[Jan]</td>\n",
       "      <td>[1,508,980]</td>\n",
       "    </tr>\n",
       "    <tr>\n",
       "      <td>3</td>\n",
       "      <td>[Feb]</td>\n",
       "      <td>[1,277,999]</td>\n",
       "    </tr>\n",
       "    <tr>\n",
       "      <td>4</td>\n",
       "      <td>[Mar]</td>\n",
       "      <td>[1,497,145]</td>\n",
       "    </tr>\n",
       "    <tr>\n",
       "      <td>5</td>\n",
       "      <td>[Apr]</td>\n",
       "      <td>[1,555,777]</td>\n",
       "    </tr>\n",
       "    <tr>\n",
       "      <td>6</td>\n",
       "      <td>[May]</td>\n",
       "      <td>[1,656,970]</td>\n",
       "    </tr>\n",
       "    <tr>\n",
       "      <td>7</td>\n",
       "      <td>[Jun]</td>\n",
       "      <td>[1,569,788]</td>\n",
       "    </tr>\n",
       "    <tr>\n",
       "      <td>8</td>\n",
       "      <td>[Jul]</td>\n",
       "      <td>[1,665,612]</td>\n",
       "    </tr>\n",
       "    <tr>\n",
       "      <td>9</td>\n",
       "      <td>[Aug]</td>\n",
       "      <td>[2,031,754]</td>\n",
       "    </tr>\n",
       "    <tr>\n",
       "      <td>10</td>\n",
       "      <td>[Sep]</td>\n",
       "      <td>[1,896,899]</td>\n",
       "    </tr>\n",
       "    <tr>\n",
       "      <td>11</td>\n",
       "      <td>[Oct]</td>\n",
       "      <td>[1,892,996]</td>\n",
       "    </tr>\n",
       "    <tr>\n",
       "      <td>12</td>\n",
       "      <td>[Nov]</td>\n",
       "      <td>[1,750,567]</td>\n",
       "    </tr>\n",
       "    <tr>\n",
       "      <td>13</td>\n",
       "      <td>[Dec]</td>\n",
       "      <td>[1,364,797]</td>\n",
       "    </tr>\n",
       "  </tbody>\n",
       "</table>\n",
       "</div>"
      ],
      "text/plain": [
       "    Month   Production\n",
       "2   [Jan]  [1,508,980]\n",
       "3   [Feb]  [1,277,999]\n",
       "4   [Mar]  [1,497,145]\n",
       "5   [Apr]  [1,555,777]\n",
       "6   [May]  [1,656,970]\n",
       "7   [Jun]  [1,569,788]\n",
       "8   [Jul]  [1,665,612]\n",
       "9   [Aug]  [2,031,754]\n",
       "10  [Sep]  [1,896,899]\n",
       "11  [Oct]  [1,892,996]\n",
       "12  [Nov]  [1,750,567]\n",
       "13  [Dec]  [1,364,797]"
      ]
     },
     "execution_count": 39,
     "metadata": {},
     "output_type": "execute_result"
    }
   ],
   "source": [
    "File_2014_json_Update"
   ]
  },
  {
   "cell_type": "code",
   "execution_count": 40,
   "metadata": {},
   "outputs": [
    {
     "data": {
      "text/html": [
       "<div>\n",
       "<style scoped>\n",
       "    .dataframe tbody tr th:only-of-type {\n",
       "        vertical-align: middle;\n",
       "    }\n",
       "\n",
       "    .dataframe tbody tr th {\n",
       "        vertical-align: top;\n",
       "    }\n",
       "\n",
       "    .dataframe thead th {\n",
       "        text-align: right;\n",
       "    }\n",
       "</style>\n",
       "<table border=\"1\" class=\"dataframe\">\n",
       "  <thead>\n",
       "    <tr style=\"text-align: right;\">\n",
       "      <th></th>\n",
       "      <th>Month</th>\n",
       "      <th>Production</th>\n",
       "    </tr>\n",
       "  </thead>\n",
       "  <tbody>\n",
       "    <tr>\n",
       "      <td>2</td>\n",
       "      <td>[Jan]</td>\n",
       "      <td>[1,160,687]</td>\n",
       "    </tr>\n",
       "    <tr>\n",
       "      <td>3</td>\n",
       "      <td>[Feb]</td>\n",
       "      <td>[1,121,628]</td>\n",
       "    </tr>\n",
       "    <tr>\n",
       "      <td>4</td>\n",
       "      <td>[Mar]</td>\n",
       "      <td>[1,495,151]</td>\n",
       "    </tr>\n",
       "    <tr>\n",
       "      <td>5</td>\n",
       "      <td>[Apr]</td>\n",
       "      <td>[1,693,425]</td>\n",
       "    </tr>\n",
       "    <tr>\n",
       "      <td>6</td>\n",
       "      <td>[May]</td>\n",
       "      <td>[1,810,530]</td>\n",
       "    </tr>\n",
       "    <tr>\n",
       "      <td>7</td>\n",
       "      <td>[June]</td>\n",
       "      <td>[1,763,667]</td>\n",
       "    </tr>\n",
       "    <tr>\n",
       "      <td>8</td>\n",
       "      <td>[Jul]</td>\n",
       "      <td>[1,815,634]</td>\n",
       "    </tr>\n",
       "    <tr>\n",
       "      <td>9</td>\n",
       "      <td>[Aug]</td>\n",
       "      <td>[2,051,000]</td>\n",
       "    </tr>\n",
       "    <tr>\n",
       "      <td>10</td>\n",
       "      <td>[Sep]</td>\n",
       "      <td>[1,959,064]</td>\n",
       "    </tr>\n",
       "    <tr>\n",
       "      <td>11</td>\n",
       "      <td>[Oct]</td>\n",
       "      <td>[2,037,466]</td>\n",
       "    </tr>\n",
       "    <tr>\n",
       "      <td>12</td>\n",
       "      <td>[Nov]</td>\n",
       "      <td>[1,653,946]</td>\n",
       "    </tr>\n",
       "    <tr>\n",
       "      <td>13</td>\n",
       "      <td>[Dec]</td>\n",
       "      <td>[1,399,383]</td>\n",
       "    </tr>\n",
       "  </tbody>\n",
       "</table>\n",
       "</div>"
      ],
      "text/plain": [
       "     Month   Production\n",
       "2    [Jan]  [1,160,687]\n",
       "3    [Feb]  [1,121,628]\n",
       "4    [Mar]  [1,495,151]\n",
       "5    [Apr]  [1,693,425]\n",
       "6    [May]  [1,810,530]\n",
       "7   [June]  [1,763,667]\n",
       "8    [Jul]  [1,815,634]\n",
       "9    [Aug]  [2,051,000]\n",
       "10   [Sep]  [1,959,064]\n",
       "11   [Oct]  [2,037,466]\n",
       "12   [Nov]  [1,653,946]\n",
       "13   [Dec]  [1,399,383]"
      ]
     },
     "execution_count": 40,
     "metadata": {},
     "output_type": "execute_result"
    }
   ],
   "source": [
    "File_2015_json_Update"
   ]
  },
  {
   "cell_type": "code",
   "execution_count": 52,
   "metadata": {},
   "outputs": [
    {
     "data": {
      "text/html": [
       "<div>\n",
       "<style scoped>\n",
       "    .dataframe tbody tr th:only-of-type {\n",
       "        vertical-align: middle;\n",
       "    }\n",
       "\n",
       "    .dataframe tbody tr th {\n",
       "        vertical-align: top;\n",
       "    }\n",
       "\n",
       "    .dataframe thead th {\n",
       "        text-align: right;\n",
       "    }\n",
       "</style>\n",
       "<table border=\"1\" class=\"dataframe\">\n",
       "  <thead>\n",
       "    <tr style=\"text-align: right;\">\n",
       "      <th></th>\n",
       "      <th>Month</th>\n",
       "      <th>Production</th>\n",
       "    </tr>\n",
       "  </thead>\n",
       "  <tbody>\n",
       "    <tr>\n",
       "      <td>2</td>\n",
       "      <td>[Jan]</td>\n",
       "      <td>[1,129,747]</td>\n",
       "    </tr>\n",
       "    <tr>\n",
       "      <td>3</td>\n",
       "      <td>[Feb]</td>\n",
       "      <td>[1,042,904]</td>\n",
       "    </tr>\n",
       "    <tr>\n",
       "      <td>4</td>\n",
       "      <td>[Mar]</td>\n",
       "      <td>[1,219,449]</td>\n",
       "    </tr>\n",
       "    <tr>\n",
       "      <td>5</td>\n",
       "      <td>[Apr]</td>\n",
       "      <td>[1,301,291]</td>\n",
       "    </tr>\n",
       "    <tr>\n",
       "      <td>6</td>\n",
       "      <td>[May]</td>\n",
       "      <td>[1,364,583]</td>\n",
       "    </tr>\n",
       "    <tr>\n",
       "      <td>7</td>\n",
       "      <td>[June]</td>\n",
       "      <td>[1,532,613]</td>\n",
       "    </tr>\n",
       "    <tr>\n",
       "      <td>8</td>\n",
       "      <td>[Jul]</td>\n",
       "      <td>[1,585,341]</td>\n",
       "    </tr>\n",
       "    <tr>\n",
       "      <td>9</td>\n",
       "      <td>[Aug]</td>\n",
       "      <td>[1,701,833]</td>\n",
       "    </tr>\n",
       "    <tr>\n",
       "      <td>10</td>\n",
       "      <td>[Sep]</td>\n",
       "      <td>[1,715,085]</td>\n",
       "    </tr>\n",
       "    <tr>\n",
       "      <td>11</td>\n",
       "      <td>[Oct]</td>\n",
       "      <td>[1,677,873]</td>\n",
       "    </tr>\n",
       "    <tr>\n",
       "      <td>12</td>\n",
       "      <td>[Nov]</td>\n",
       "      <td>[1,574,938]</td>\n",
       "    </tr>\n",
       "    <tr>\n",
       "      <td>13</td>\n",
       "      <td>[Dec]</td>\n",
       "      <td>[1,473,717]</td>\n",
       "    </tr>\n",
       "  </tbody>\n",
       "</table>\n",
       "</div>"
      ],
      "text/plain": [
       "     Month   Production\n",
       "2    [Jan]  [1,129,747]\n",
       "3    [Feb]  [1,042,904]\n",
       "4    [Mar]  [1,219,449]\n",
       "5    [Apr]  [1,301,291]\n",
       "6    [May]  [1,364,583]\n",
       "7   [June]  [1,532,613]\n",
       "8    [Jul]  [1,585,341]\n",
       "9    [Aug]  [1,701,833]\n",
       "10   [Sep]  [1,715,085]\n",
       "11   [Oct]  [1,677,873]\n",
       "12   [Nov]  [1,574,938]\n",
       "13   [Dec]  [1,473,717]"
      ]
     },
     "execution_count": 52,
     "metadata": {},
     "output_type": "execute_result"
    }
   ],
   "source": [
    "File_2016_json_Update.drop(File_2016_json_Update.index[12])\n"
   ]
  },
  {
   "cell_type": "code",
   "execution_count": 54,
   "metadata": {},
   "outputs": [
    {
     "data": {
      "text/html": [
       "<div>\n",
       "<style scoped>\n",
       "    .dataframe tbody tr th:only-of-type {\n",
       "        vertical-align: middle;\n",
       "    }\n",
       "\n",
       "    .dataframe tbody tr th {\n",
       "        vertical-align: top;\n",
       "    }\n",
       "\n",
       "    .dataframe thead th {\n",
       "        text-align: right;\n",
       "    }\n",
       "</style>\n",
       "<table border=\"1\" class=\"dataframe\">\n",
       "  <thead>\n",
       "    <tr style=\"text-align: right;\">\n",
       "      <th></th>\n",
       "      <th>Month</th>\n",
       "      <th>Production</th>\n",
       "    </tr>\n",
       "  </thead>\n",
       "  <tbody>\n",
       "    <tr>\n",
       "      <td>2</td>\n",
       "      <td>[Jan]</td>\n",
       "      <td>[1,276,849]</td>\n",
       "    </tr>\n",
       "    <tr>\n",
       "      <td>3</td>\n",
       "      <td>[Feb]</td>\n",
       "      <td>[1,258,539]</td>\n",
       "    </tr>\n",
       "    <tr>\n",
       "      <td>4</td>\n",
       "      <td>[Mar]</td>\n",
       "      <td>[1,464,021]</td>\n",
       "    </tr>\n",
       "    <tr>\n",
       "      <td>5</td>\n",
       "      <td>[Apr]</td>\n",
       "      <td>[1,548,026]</td>\n",
       "    </tr>\n",
       "    <tr>\n",
       "      <td>6</td>\n",
       "      <td>[May]</td>\n",
       "      <td>[1,654,494]</td>\n",
       "    </tr>\n",
       "    <tr>\n",
       "      <td>7</td>\n",
       "      <td>[June]</td>\n",
       "      <td>[1,514,165]</td>\n",
       "    </tr>\n",
       "    <tr>\n",
       "      <td>8</td>\n",
       "      <td>[Jul]</td>\n",
       "      <td>[1,826,828]</td>\n",
       "    </tr>\n",
       "    <tr>\n",
       "      <td>9</td>\n",
       "      <td>[Aug]</td>\n",
       "      <td>[1,810,551]</td>\n",
       "    </tr>\n",
       "    <tr>\n",
       "      <td>10</td>\n",
       "      <td>[Sep]</td>\n",
       "      <td>[1,779,918]</td>\n",
       "    </tr>\n",
       "    <tr>\n",
       "      <td>11</td>\n",
       "      <td>[Oct]</td>\n",
       "      <td>[2,008,838]</td>\n",
       "    </tr>\n",
       "    <tr>\n",
       "      <td>12</td>\n",
       "      <td>[Nov]</td>\n",
       "      <td>[1,942,847]</td>\n",
       "    </tr>\n",
       "    <tr>\n",
       "      <td>13</td>\n",
       "      <td>[Dec]</td>\n",
       "      <td>[1,834,167]</td>\n",
       "    </tr>\n",
       "  </tbody>\n",
       "</table>\n",
       "</div>"
      ],
      "text/plain": [
       "     Month   Production\n",
       "2    [Jan]  [1,276,849]\n",
       "3    [Feb]  [1,258,539]\n",
       "4    [Mar]  [1,464,021]\n",
       "5    [Apr]  [1,548,026]\n",
       "6    [May]  [1,654,494]\n",
       "7   [June]  [1,514,165]\n",
       "8    [Jul]  [1,826,828]\n",
       "9    [Aug]  [1,810,551]\n",
       "10   [Sep]  [1,779,918]\n",
       "11   [Oct]  [2,008,838]\n",
       "12   [Nov]  [1,942,847]\n",
       "13   [Dec]  [1,834,167]"
      ]
     },
     "execution_count": 54,
     "metadata": {},
     "output_type": "execute_result"
    }
   ],
   "source": [
    "File_2017_json_Update.drop(File_2017_json_Update.index[12])"
   ]
  },
  {
   "cell_type": "code",
   "execution_count": 55,
   "metadata": {},
   "outputs": [
    {
     "data": {
      "text/html": [
       "<div>\n",
       "<style scoped>\n",
       "    .dataframe tbody tr th:only-of-type {\n",
       "        vertical-align: middle;\n",
       "    }\n",
       "\n",
       "    .dataframe tbody tr th {\n",
       "        vertical-align: top;\n",
       "    }\n",
       "\n",
       "    .dataframe thead th {\n",
       "        text-align: right;\n",
       "    }\n",
       "</style>\n",
       "<table border=\"1\" class=\"dataframe\">\n",
       "  <thead>\n",
       "    <tr style=\"text-align: right;\">\n",
       "      <th></th>\n",
       "      <th>Month</th>\n",
       "      <th>Production</th>\n",
       "    </tr>\n",
       "  </thead>\n",
       "  <tbody>\n",
       "    <tr>\n",
       "      <td>2</td>\n",
       "      <td>[Jan]</td>\n",
       "      <td>[1,586,653]</td>\n",
       "    </tr>\n",
       "    <tr>\n",
       "      <td>3</td>\n",
       "      <td>[Feb]</td>\n",
       "      <td>[1,342,805]</td>\n",
       "    </tr>\n",
       "    <tr>\n",
       "      <td>4</td>\n",
       "      <td>[Mar]</td>\n",
       "      <td>[1,573,957]</td>\n",
       "    </tr>\n",
       "    <tr>\n",
       "      <td>5</td>\n",
       "      <td>[Apr]</td>\n",
       "      <td>[1,558,331]</td>\n",
       "    </tr>\n",
       "    <tr>\n",
       "      <td>6</td>\n",
       "      <td>[May]</td>\n",
       "      <td>[1,525,405]</td>\n",
       "    </tr>\n",
       "    <tr>\n",
       "      <td>7</td>\n",
       "      <td>[June]</td>\n",
       "      <td>[1,332,704]</td>\n",
       "    </tr>\n",
       "    <tr>\n",
       "      <td>8</td>\n",
       "      <td>[Jul]</td>\n",
       "      <td>[1,503,220]</td>\n",
       "    </tr>\n",
       "    <tr>\n",
       "      <td>9</td>\n",
       "      <td>[Aug]</td>\n",
       "      <td>[1,620,605]</td>\n",
       "    </tr>\n",
       "    <tr>\n",
       "      <td>10</td>\n",
       "      <td>[Sep]</td>\n",
       "      <td>[1,853,602]</td>\n",
       "    </tr>\n",
       "    <tr>\n",
       "      <td>11</td>\n",
       "      <td>[Oct]</td>\n",
       "      <td>[1,964,954]</td>\n",
       "    </tr>\n",
       "    <tr>\n",
       "      <td>12</td>\n",
       "      <td>[Nov]</td>\n",
       "      <td>[1,845,222]</td>\n",
       "    </tr>\n",
       "    <tr>\n",
       "      <td>13</td>\n",
       "      <td>[Dec]</td>\n",
       "      <td>[1,808,038]</td>\n",
       "    </tr>\n",
       "  </tbody>\n",
       "</table>\n",
       "</div>"
      ],
      "text/plain": [
       "     Month   Production\n",
       "2    [Jan]  [1,586,653]\n",
       "3    [Feb]  [1,342,805]\n",
       "4    [Mar]  [1,573,957]\n",
       "5    [Apr]  [1,558,331]\n",
       "6    [May]  [1,525,405]\n",
       "7   [June]  [1,332,704]\n",
       "8    [Jul]  [1,503,220]\n",
       "9    [Aug]  [1,620,605]\n",
       "10   [Sep]  [1,853,602]\n",
       "11   [Oct]  [1,964,954]\n",
       "12   [Nov]  [1,845,222]\n",
       "13   [Dec]  [1,808,038]"
      ]
     },
     "execution_count": 55,
     "metadata": {},
     "output_type": "execute_result"
    }
   ],
   "source": [
    "File_2018_json_Update.drop(File_2018_json_Update.index[12])"
   ]
  },
  {
   "cell_type": "code",
   "execution_count": 44,
   "metadata": {},
   "outputs": [
    {
     "data": {
      "text/html": [
       "<div>\n",
       "<style scoped>\n",
       "    .dataframe tbody tr th:only-of-type {\n",
       "        vertical-align: middle;\n",
       "    }\n",
       "\n",
       "    .dataframe tbody tr th {\n",
       "        vertical-align: top;\n",
       "    }\n",
       "\n",
       "    .dataframe thead th {\n",
       "        text-align: right;\n",
       "    }\n",
       "</style>\n",
       "<table border=\"1\" class=\"dataframe\">\n",
       "  <thead>\n",
       "    <tr style=\"text-align: right;\">\n",
       "      <th></th>\n",
       "      <th>Month</th>\n",
       "      <th>Production</th>\n",
       "    </tr>\n",
       "  </thead>\n",
       "  <tbody>\n",
       "    <tr>\n",
       "      <td>2</td>\n",
       "      <td>[Jan]</td>\n",
       "      <td>[1,737,461]</td>\n",
       "    </tr>\n",
       "    <tr>\n",
       "      <td>3</td>\n",
       "      <td>[Feb]</td>\n",
       "      <td>[1,544,518]</td>\n",
       "    </tr>\n",
       "    <tr>\n",
       "      <td>4</td>\n",
       "      <td>[Mar]</td>\n",
       "      <td>[1,672,058]</td>\n",
       "    </tr>\n",
       "    <tr>\n",
       "      <td>5</td>\n",
       "      <td>[Apr]</td>\n",
       "      <td>[1,649,368]</td>\n",
       "    </tr>\n",
       "    <tr>\n",
       "      <td>6</td>\n",
       "      <td>[May]</td>\n",
       "      <td>[1,671,467]</td>\n",
       "    </tr>\n",
       "    <tr>\n",
       "      <td>7</td>\n",
       "      <td>[June]</td>\n",
       "      <td>[1,510,957]</td>\n",
       "    </tr>\n",
       "    <tr>\n",
       "      <td>8</td>\n",
       "      <td>[Jul]</td>\n",
       "      <td>[1,740,759]</td>\n",
       "    </tr>\n",
       "    <tr>\n",
       "      <td>9</td>\n",
       "      <td>[Aug]</td>\n",
       "      <td>[1,821,548]</td>\n",
       "    </tr>\n",
       "    <tr>\n",
       "      <td>10</td>\n",
       "      <td>[Sep]</td>\n",
       "      <td>[1,842,433]</td>\n",
       "    </tr>\n",
       "    <tr>\n",
       "      <td>11</td>\n",
       "      <td>[Oct]</td>\n",
       "      <td>[1,795,841]</td>\n",
       "    </tr>\n",
       "    <tr>\n",
       "      <td>12</td>\n",
       "      <td>[Nov]</td>\n",
       "      <td>[1,538,053]</td>\n",
       "    </tr>\n",
       "    <tr>\n",
       "      <td>13</td>\n",
       "      <td>[Dec]</td>\n",
       "      <td>[1,333,904]</td>\n",
       "    </tr>\n",
       "  </tbody>\n",
       "</table>\n",
       "</div>"
      ],
      "text/plain": [
       "     Month   Production\n",
       "2    [Jan]  [1,737,461]\n",
       "3    [Feb]  [1,544,518]\n",
       "4    [Mar]  [1,672,058]\n",
       "5    [Apr]  [1,649,368]\n",
       "6    [May]  [1,671,467]\n",
       "7   [June]  [1,510,957]\n",
       "8    [Jul]  [1,740,759]\n",
       "9    [Aug]  [1,821,548]\n",
       "10   [Sep]  [1,842,433]\n",
       "11   [Oct]  [1,795,841]\n",
       "12   [Nov]  [1,538,053]\n",
       "13   [Dec]  [1,333,904]"
      ]
     },
     "execution_count": 44,
     "metadata": {},
     "output_type": "execute_result"
    }
   ],
   "source": [
    "File_2019_json_Update"
   ]
  },
  {
   "cell_type": "code",
   "execution_count": null,
   "metadata": {},
   "outputs": [],
   "source": []
  }
 ],
 "metadata": {
  "kernelspec": {
   "display_name": "Python 3",
   "language": "python",
   "name": "python3"
  },
  "language_info": {
   "codemirror_mode": {
    "name": "ipython",
    "version": 3
   },
   "file_extension": ".py",
   "mimetype": "text/x-python",
   "name": "python",
   "nbconvert_exporter": "python",
   "pygments_lexer": "ipython3",
   "version": "3.7.4"
  }
 },
 "nbformat": 4,
 "nbformat_minor": 2
}
