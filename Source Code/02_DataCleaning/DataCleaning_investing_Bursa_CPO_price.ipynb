{
 "cells": [
  {
   "cell_type": "code",
   "execution_count": 1,
   "metadata": {},
   "outputs": [],
   "source": [
    "import pandas as pd"
   ]
  },
  {
   "cell_type": "code",
   "execution_count": 3,
   "metadata": {},
   "outputs": [],
   "source": [
    "\n",
    "df = pd.read_csv('../../A_Raw_Data/CPOPrices/investing_Bursa_CPO_price.csv', index_col=0, parse_dates=True)\n",
    "df['Price'] = df['Price'].str.replace(',','').astype(float)\n",
    "df['Open'] = df['Open'].str.replace(',','').astype(float)\n",
    "df['High'] = df['High'].str.replace(',','').astype(float)\n",
    "df['Low'] = df['Low'].str.replace(',','').astype(float)\n",
    "df['Change %'] = df['Change %'].str.strip('%').astype(float)\n",
    "df['Vol.'] = df['Vol.'].str.strip('K').replace('-','0').astype(float)\n",
    "df.rename(columns={'Vol.': 'Vol. (K)', 'Change %': 'Change (%)'})\n",
    "df.to_csv('../../B_Processed_Data/investing_Bursa_CPO_price.csv')"
   ]
  },
  {
   "cell_type": "code",
   "execution_count": null,
   "metadata": {},
   "outputs": [],
   "source": []
  }
 ],
 "metadata": {
  "kernelspec": {
   "display_name": "Python 3",
   "language": "python",
   "name": "python3"
  },
  "language_info": {
   "codemirror_mode": {
    "name": "ipython",
    "version": 3
   },
   "file_extension": ".py",
   "mimetype": "text/x-python",
   "name": "python",
   "nbconvert_exporter": "python",
   "pygments_lexer": "ipython3",
   "version": "3.7.4"
  }
 },
 "nbformat": 4,
 "nbformat_minor": 4
}
